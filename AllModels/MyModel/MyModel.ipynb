{
 "cells": [
  {
   "cell_type": "code",
   "execution_count": null,
   "metadata": {},
   "outputs": [],
   "source": [
    "import math\n",
    "import os\n",
    "import matplotlib\n",
    "import imghdr\n",
    "import pickle as pkl\n",
    "import numpy as np\n",
    "import matplotlib.pyplot as plt\n",
    "from keras.applications.xception import Xception, preprocess_input\n",
    "from keras.optimizers import Adam\n",
    "#from keras.preprocessing import image\n",
    "import keras.utils as image\n",
    "from keras.losses import categorical_crossentropy\n",
    "from keras.layers import Dense, GlobalAveragePooling2D\n",
    "from keras.models import Model\n",
    "from keras.utils import to_categorical\n",
    "from keras.callbacks import ModelCheckpoint\n",
    "from keras.models import load_model"
   ]
  },
  {
   "cell_type": "code",
   "execution_count": null,
   "metadata": {},
   "outputs": [],
   "source": [
    "dataset_root = 'C:\\\\DatasetD\\\\ROOP_100'\n",
    "result_root = \"C:\\\\DatasetD\\\\MyModel\"\n",
    "classes = [\"real\", \"fake\"]\n",
    "num_classes = 2\n",
    "\n",
    "epochs_pre = 10\n",
    "epochs_fine = 20\n",
    "batch_size_pre = 4\n",
    "batch_size_fine = 4\n",
    "lr_pre = 1e-3\n",
    "lr_fine = 1e-4\n",
    "snapshot_period_pre = 5\n",
    "snapshot_period_fine = 5\n",
    "split = 0.7"
   ]
  }
 ],
 "metadata": {
  "language_info": {
   "name": "python"
  }
 },
 "nbformat": 4,
 "nbformat_minor": 2
}
