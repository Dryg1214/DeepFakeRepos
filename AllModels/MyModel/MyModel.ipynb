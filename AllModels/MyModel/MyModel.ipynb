{
 "cells": [
  {
   "cell_type": "code",
   "execution_count": 3,
   "metadata": {},
   "outputs": [],
   "source": [
    "import math\n",
    "import os\n",
    "import matplotlib\n",
    "import imghdr\n",
    "import pickle as pkl\n",
    "import numpy as np\n",
    "import matplotlib.pyplot as plt\n",
    "from keras.applications.xception import Xception, preprocess_input\n",
    "from keras.optimizers import Adam\n",
    "#from keras.preprocessing import image\n",
    "import keras.utils as image\n",
    "from keras.losses import categorical_crossentropy\n",
    "from keras.layers import Dense, GlobalAveragePooling2D\n",
    "from keras.models import Model\n",
    "from keras.utils import to_categorical\n",
    "from keras.callbacks import ModelCheckpoint\n",
    "from keras.models import load_model\n"
   ]
  },
  {
   "cell_type": "code",
   "execution_count": 5,
   "metadata": {},
   "outputs": [],
   "source": [
    "dataset_root = 'C:\\\\DatasetD\\\\ROOP_100'\n",
    "result_root = \"C:\\\\DatasetD\\\\MyModel\"\n",
    "classes = [\"real\", \"fake\"]\n",
    "num_classes = 2\n",
    "\n",
    "epochs_pre = 10\n",
    "epochs_fine = 20\n",
    "batch_size_pre = 4\n",
    "batch_size_fine = 4\n",
    "lr_pre = 1e-3\n",
    "lr_fine = 1e-4\n",
    "snapshot_period_pre = 5\n",
    "snapshot_period_fine = 5\n",
    "split = 0.3"
   ]
  },
  {
   "cell_type": "code",
   "execution_count": 7,
   "metadata": {},
   "outputs": [
    {
     "name": "stdout",
     "output_type": "stream",
     "text": [
      "Training on 140 images and labels\n",
      "Validation on 60 images and labels\n"
     ]
    }
   ],
   "source": [
    "from sklearn.model_selection import train_test_split\n",
    "# make input_paths and labels\n",
    "input_paths, labels = [], []\n",
    "for class_name in os.listdir(dataset_root):\n",
    "    class_root = os.path.join(dataset_root, class_name)\n",
    "    class_id = classes.index(class_name)\n",
    "    for path in os.listdir(class_root):\n",
    "        path = os.path.join(class_root, path)\n",
    "        if imghdr.what(path) is None:\n",
    "            # this is not an image file\n",
    "            continue\n",
    "        input_paths.append(path)\n",
    "        labels.append(class_id)\n",
    "\n",
    "# convert to one-hot-vector format\n",
    "labels = to_categorical(labels, num_classes=num_classes)\n",
    "\n",
    "# convert to numpy array\n",
    "input_paths = np.array(input_paths)\n",
    "\n",
    "train_input_paths, val_input_paths, train_labels, val_labels = train_test_split(\n",
    "    input_paths, labels, test_size=split, random_state=42, stratify=labels)\n",
    "\n",
    "print(\"Training on %d images and labels\" % (len(train_input_paths)))\n",
    "print(\"Validation on %d images and labels\" % (len(val_input_paths)))\n",
    "\n",
    "if os.path.exists(result_root) is False:\n",
    "    os.makedirs(result_root)"
   ]
  },
  {
   "cell_type": "code",
   "execution_count": null,
   "metadata": {},
   "outputs": [],
   "source": [
    "def generate_from_paths_and_labels(input_paths, labels, batch_size, input_size=(1024, 1024)):\n",
    "    num_samples = len(input_paths)\n",
    "    while 1:\n",
    "        perm = np.random.permutation(num_samples)\n",
    "        input_paths = input_paths[perm]\n",
    "        labels = labels[perm]\n",
    "        for i in range(0, num_samples, batch_size):\n",
    "            inputs = list(map(\n",
    "                lambda x: image.load_img(x, target_size=input_size),\n",
    "                input_paths[i:i+batch_size]\n",
    "            ))\n",
    "            inputs = np.array(list(map(\n",
    "                lambda x: image.img_to_array(x),\n",
    "                inputs\n",
    "            )))\n",
    "            inputs = preprocess_input(inputs)\n",
    "            yield (inputs, labels[i:i+batch_size])"
   ]
  }
 ],
 "metadata": {
  "kernelspec": {
   "display_name": "Python 3",
   "language": "python",
   "name": "python3"
  },
  "language_info": {
   "codemirror_mode": {
    "name": "ipython",
    "version": 3
   },
   "file_extension": ".py",
   "mimetype": "text/x-python",
   "name": "python",
   "nbconvert_exporter": "python",
   "pygments_lexer": "ipython3",
   "version": "3.9.18"
  }
 },
 "nbformat": 4,
 "nbformat_minor": 2
}
