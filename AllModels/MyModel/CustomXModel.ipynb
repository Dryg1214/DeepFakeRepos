{
  "cells": [
    {
      "cell_type": "code",
      "execution_count": 1,
      "metadata": {
        "id": "3_6GD947pGEk"
      },
      "outputs": [],
      "source": [
        "import math\n",
        "import os\n",
        "import matplotlib\n",
        "import imghdr\n",
        "import pickle as pkl\n",
        "import numpy as np\n",
        "import matplotlib.pyplot as plt\n",
        "from keras.applications.xception import Xception, preprocess_input\n",
        "from keras.optimizers import Adam\n",
        "#from keras.preprocessing import image\n",
        "import keras.utils as image\n",
        "from keras.losses import categorical_crossentropy\n",
        "from keras.layers import Dense, GlobalAveragePooling2D\n",
        "from keras.models import Model\n",
        "from keras.utils import to_categorical\n",
        "from keras.callbacks import ModelCheckpoint\n",
        "from keras.models import load_model"
      ]
    },
    {
      "cell_type": "code",
      "execution_count": 10,
      "metadata": {
        "id": "Oole7Pa9pIUc"
      },
      "outputs": [],
      "source": [
        "matplotlib.use('Agg')\n",
        "#dataset_root = \"E://roop//\"\n",
        "\n",
        "dataset_root = 'C:\\\\DatasetD\\\\GHOST_100'\n",
        "result_root = \"C:\\\\DatasetD\\\\\"\n",
        "classes = [\"real\", \"fake\"]\n",
        "num_classes = 2\n",
        "\n",
        "epochs_pre = 10\n",
        "epochs_fine = 20\n",
        "batch_size_pre = 2\n",
        "batch_size_fine = 2\n",
        "lr_pre = 1e-3\n",
        "lr_fine = 1e-4\n",
        "snapshot_period_pre = 5\n",
        "snapshot_period_fine = 5\n",
        "split = 0.7"
      ]
    },
    {
      "cell_type": "code",
      "execution_count": 3,
      "metadata": {
        "id": "m_XHWryipNEi"
      },
      "outputs": [],
      "source": [
        "# make input_paths and labels\n",
        "input_paths, labels = [], []\n",
        "for class_name in os.listdir(dataset_root):\n",
        "    class_root = os.path.join(dataset_root, class_name)\n",
        "    class_id = classes.index(class_name)\n",
        "    for path in os.listdir(class_root):\n",
        "        path = os.path.join(class_root, path)\n",
        "        if imghdr.what(path) is None:\n",
        "            # this is not an image file\n",
        "            continue\n",
        "        input_paths.append(path)\n",
        "        labels.append(class_id)\n",
        "\n",
        "# convert to one-hot-vector format\n",
        "labels = to_categorical(labels, num_classes=num_classes)\n",
        "\n",
        "# convert to numpy array\n",
        "input_paths = np.array(input_paths)"
      ]
    },
    {
      "cell_type": "code",
      "execution_count": 4,
      "metadata": {
        "colab": {
          "base_uri": "https://localhost:8080/"
        },
        "id": "PiRKJPtfpVUr",
        "outputId": "9669ba60-d38f-4643-c20c-30910f9243b6"
      },
      "outputs": [
        {
          "name": "stdout",
          "output_type": "stream",
          "text": [
            "200 200\n"
          ]
        }
      ],
      "source": [
        "print(len(labels), len(input_paths))"
      ]
    },
    {
      "cell_type": "code",
      "execution_count": 5,
      "metadata": {
        "colab": {
          "base_uri": "https://localhost:8080/"
        },
        "id": "aeInjv68pYCi",
        "outputId": "1eb1a179-9d0d-4ac5-bdb8-29747cf82188"
      },
      "outputs": [
        {
          "name": "stdout",
          "output_type": "stream",
          "text": [
            "Training on 140 images and labels\n",
            "Validation on 60 images and labels\n"
          ]
        }
      ],
      "source": [
        "# split dataset for training and validation purposes\n",
        "border = int(len(input_paths) * split)\n",
        "train_labels = labels[:border]\n",
        "val_labels = labels[border:]\n",
        "train_input_paths = input_paths[:border]\n",
        "val_input_paths = input_paths[border:]\n",
        "print(\"Training on %d images and labels\" % (len(train_input_paths)))\n",
        "print(\"Validation on %d images and labels\" % (len(val_input_paths)))\n",
        "\n",
        "if os.path.exists(result_root) is False:\n",
        "    os.makedirs(result_root)"
      ]
    },
    {
      "cell_type": "markdown",
      "metadata": {
        "id": "GTSWYZ2Zp9Rj"
      },
      "source": [
        "# Model Training using Transfer Learning Technique\n",
        "\n",
        "Since out training dataset is quite small, we apply [transfer learning](https://machinelearningmastery.com/transfer-learning-for-deep-learning/#:~:text=Transfer%20learning%20is%20a%20machine,model%20on%20a%20second%20task.) technique in creating the detector.\n",
        "\n",
        "We use the Keras pre-trained XceptionNet model as our base model. This pre-trained model was trained on Imagenet datasets and is able to classify images into around 1000 different classes. We fine-tune this model so that it recognises real & fake human faces as well."
      ]
    },
    {
      "cell_type": "code",
      "execution_count": 14,
      "metadata": {
        "id": "fh-jPlY4pwOe"
      },
      "outputs": [],
      "source": [
        "def generate_from_paths_and_labels(input_paths, labels, batch_size, input_size=(1024, 1024)):\n",
        "    num_samples = len(input_paths)\n",
        "    while 1:\n",
        "        perm = np.random.permutation(num_samples)\n",
        "        input_paths = input_paths[perm]\n",
        "        labels = labels[perm]\n",
        "        for i in range(0, num_samples, batch_size):\n",
        "            inputs = list(map(\n",
        "                lambda x: image.load_img(x, target_size=input_size),\n",
        "                input_paths[i:i+batch_size]\n",
        "            ))\n",
        "            inputs = np.array(list(map(\n",
        "                lambda x: image.img_to_array(x),\n",
        "                inputs\n",
        "            )))\n",
        "            inputs = preprocess_input(inputs)\n",
        "            yield (inputs, labels[i:i+batch_size])"
      ]
    },
    {
      "cell_type": "code",
      "execution_count": 15,
      "metadata": {
        "id": "jRztALS0qWVh"
      },
      "outputs": [
        {
          "name": "stdout",
          "output_type": "stream",
          "text": [
            "Model: \"model_1\"\n",
            "_________________________________________________________________\n",
            " Layer (type)                Output Shape              Param #   \n",
            "=================================================================\n",
            " input_2 (InputLayer)        [(None, 1024, 1024, 3)]   0         \n",
            "                                                                 \n",
            " conv2d_13 (Conv2D)          (None, 1024, 1024, 32)    896       \n",
            "                                                                 \n",
            " conv2d_14 (Conv2D)          (None, 1024, 1024, 32)    9248      \n",
            "                                                                 \n",
            " conv2d_15 (Conv2D)          (None, 1024, 1024, 32)    9248      \n",
            "                                                                 \n",
            " max_pooling2d_4 (MaxPooling  (None, 512, 512, 32)     0         \n",
            " 2D)                                                             \n",
            "                                                                 \n",
            " conv2d_16 (Conv2D)          (None, 512, 512, 64)      18496     \n",
            "                                                                 \n",
            " conv2d_17 (Conv2D)          (None, 512, 512, 64)      36928     \n",
            "                                                                 \n",
            " conv2d_18 (Conv2D)          (None, 512, 512, 64)      36928     \n",
            "                                                                 \n",
            " max_pooling2d_5 (MaxPooling  (None, 256, 256, 64)     0         \n",
            " 2D)                                                             \n",
            "                                                                 \n",
            " conv2d_19 (Conv2D)          (None, 256, 256, 128)     73856     \n",
            "                                                                 \n",
            " conv2d_20 (Conv2D)          (None, 256, 256, 128)     147584    \n",
            "                                                                 \n",
            " conv2d_21 (Conv2D)          (None, 256, 256, 128)     147584    \n",
            "                                                                 \n",
            " max_pooling2d_6 (MaxPooling  (None, 128, 128, 128)    0         \n",
            " 2D)                                                             \n",
            "                                                                 \n",
            " conv2d_22 (Conv2D)          (None, 128, 128, 256)     295168    \n",
            "                                                                 \n",
            " conv2d_23 (Conv2D)          (None, 128, 128, 256)     590080    \n",
            "                                                                 \n",
            " conv2d_24 (Conv2D)          (None, 128, 128, 256)     590080    \n",
            "                                                                 \n",
            " max_pooling2d_7 (MaxPooling  (None, 64, 64, 256)      0         \n",
            " 2D)                                                             \n",
            "                                                                 \n",
            " conv2d_25 (Conv2D)          (None, 64, 64, 256)       1638656   \n",
            "                                                                 \n",
            " global_max_pooling2d_1 (Glo  (None, 256)              0         \n",
            " balMaxPooling2D)                                                \n",
            "                                                                 \n",
            " dense_1 (Dense)             (None, 2)                 514       \n",
            "                                                                 \n",
            "=================================================================\n",
            "Total params: 3,595,266\n",
            "Trainable params: 3,595,266\n",
            "Non-trainable params: 0\n",
            "_________________________________________________________________\n"
          ]
        }
      ],
      "source": [
        "from tensorflow.keras.layers import Input, Conv2D, MaxPooling2D, GlobalMaxPooling2D, Dense\n",
        "from tensorflow.keras.models import Model\n",
        "\n",
        "def vgg_like(input_shape=(1024, 1024, 3), num_classes=2, num_filters=32):\n",
        "    input_tensor = Input(shape=input_shape)\n",
        "    x = input_tensor\n",
        "    x = x / 255.0\n",
        "    # Первый блок свертки\n",
        "    x = Conv2D(num_filters, (3, 3), activation='relu', padding='same')(x)\n",
        "    x = Conv2D(num_filters, (3, 3), activation='relu', padding='same')(x)\n",
        "    x = Conv2D(num_filters, (3, 3), activation='relu', padding='same')(x)\n",
        "    x = MaxPooling2D((2, 2))(x)\n",
        "    \n",
        "    # Увеличиваем число фильтров\n",
        "    num_filters *= 2\n",
        "    \n",
        "    # Второй блок свертки\n",
        "    x = Conv2D(num_filters, (3, 3), activation='relu', padding='same')(x)\n",
        "    x = Conv2D(num_filters, (3, 3), activation='relu', padding='same')(x)\n",
        "    x = Conv2D(num_filters, (3, 3), activation='relu', padding='same')(x)\n",
        "    x = MaxPooling2D((2, 2))(x)\n",
        "    \n",
        "    # Увеличиваем число фильтров\n",
        "    num_filters *= 2\n",
        "    \n",
        "    # Третий блок свертки\n",
        "    x = Conv2D(num_filters, (3, 3), activation='relu', padding='same')(x)\n",
        "    x = Conv2D(num_filters, (3, 3), activation='relu', padding='same')(x)\n",
        "    x = Conv2D(num_filters, (3, 3), activation='relu', padding='same')(x)\n",
        "    x = MaxPooling2D((2, 2))(x)\n",
        "    \n",
        "    # Увеличиваем число фильтров\n",
        "    num_filters *= 2\n",
        "    \n",
        "    # Четвертый блок свертки\n",
        "    x = Conv2D(num_filters, (3, 3), activation='relu', padding='same')(x)\n",
        "    x = Conv2D(num_filters, (3, 3), activation='relu', padding='same')(x)\n",
        "    x = Conv2D(num_filters, (3, 3), activation='relu', padding='same')(x)\n",
        "    x = MaxPooling2D((2, 2))(x)\n",
        "    \n",
        "    # Финальный слой перед GlobalMaxPooling\n",
        "    x = Conv2D(x.shape[-1], (5, 5), padding='same')(x)\n",
        "    \n",
        "    # GlobalMaxPooling\n",
        "    x = GlobalMaxPooling2D()(x)\n",
        "    \n",
        "    # Выходной слой\n",
        "    output = Dense(num_classes, activation='softmax')(x)\n",
        "    \n",
        "    model = Model(input_tensor, output)\n",
        "    return model\n",
        "\n",
        "# Создание модели аналога VGG\n",
        "model = vgg_like(input_shape=(1024, 1024, 3), num_classes=2, num_filters=32)\n",
        "\n",
        "# Вывод информации о модели\n",
        "model.summary()"
      ]
    },
    {
      "cell_type": "code",
      "execution_count": 17,
      "metadata": {},
      "outputs": [
        {
          "data": {
            "text/plain": [
              "[PhysicalDevice(name='/physical_device:GPU:0', device_type='GPU')]"
            ]
          },
          "execution_count": 17,
          "metadata": {},
          "output_type": "execute_result"
        }
      ],
      "source": [
        "import tensorflow as tf\n",
        "tf.config.list_physical_devices('GPU')"
      ]
    },
    {
      "cell_type": "code",
      "execution_count": 16,
      "metadata": {
        "colab": {
          "base_uri": "https://localhost:8080/"
        },
        "id": "WXell_Xpqej-",
        "outputId": "240ff158-65f6-45b7-f2b0-8678984038c9"
      },
      "outputs": [
        {
          "name": "stdout",
          "output_type": "stream",
          "text": [
            "WARNING:tensorflow:`period` argument is deprecated. Please use `save_freq` to specify the frequency in number of batches seen.\n",
            "Epoch 1/20\n"
          ]
        },
        {
          "name": "stderr",
          "output_type": "stream",
          "text": [
            "C:\\Users\\Павел\\AppData\\Local\\Temp\\ipykernel_19160\\320710496.py:6: UserWarning: `Model.fit_generator` is deprecated and will be removed in a future version. Please use `Model.fit`, which supports generators.\n",
            "  hist_fine = model.fit_generator(\n"
          ]
        },
        {
          "name": "stdout",
          "output_type": "stream",
          "text": [
            "70/70 [==============================] - 23s 316ms/step - loss: 0.6979 - accuracy: 0.7143 - val_loss: 0.7444 - val_accuracy: 0.0000e+00\n",
            "Epoch 2/20\n",
            "70/70 [==============================] - 22s 321ms/step - loss: 0.6336 - accuracy: 0.7143 - val_loss: 1.0234 - val_accuracy: 0.0000e+00\n",
            "Epoch 3/20\n",
            "70/70 [==============================] - 23s 334ms/step - loss: 0.6329 - accuracy: 0.7143 - val_loss: 0.8616 - val_accuracy: 0.0000e+00\n",
            "Epoch 4/20\n",
            "70/70 [==============================] - 23s 324ms/step - loss: 0.6281 - accuracy: 0.7143 - val_loss: 1.0940 - val_accuracy: 0.0000e+00\n",
            "Epoch 5/20\n",
            "70/70 [==============================] - 23s 323ms/step - loss: 0.6097 - accuracy: 0.7143 - val_loss: 1.2123 - val_accuracy: 0.0000e+00\n",
            "Epoch 6/20\n",
            "70/70 [==============================] - 23s 328ms/step - loss: 0.6112 - accuracy: 0.7143 - val_loss: 1.2351 - val_accuracy: 0.0000e+00\n",
            "Epoch 7/20\n",
            "70/70 [==============================] - 24s 338ms/step - loss: 0.6072 - accuracy: 0.7143 - val_loss: 1.0688 - val_accuracy: 0.0000e+00\n",
            "Epoch 8/20\n",
            "70/70 [==============================] - 23s 335ms/step - loss: 0.6033 - accuracy: 0.7143 - val_loss: 1.1681 - val_accuracy: 0.0000e+00\n",
            "Epoch 9/20\n",
            "70/70 [==============================] - 24s 338ms/step - loss: 0.6028 - accuracy: 0.7143 - val_loss: 1.4059 - val_accuracy: 0.0000e+00\n",
            "Epoch 10/20\n",
            "70/70 [==============================] - 206s 3s/step - loss: 0.6066 - accuracy: 0.7143 - val_loss: 1.1704 - val_accuracy: 0.0000e+00\n",
            "Epoch 11/20\n",
            "70/70 [==============================] - 115s 2s/step - loss: 0.6013 - accuracy: 0.7143 - val_loss: 1.1824 - val_accuracy: 0.0000e+00\n",
            "Epoch 12/20\n",
            "70/70 [==============================] - 115s 2s/step - loss: 0.6102 - accuracy: 0.7143 - val_loss: 1.1283 - val_accuracy: 0.0000e+00\n",
            "Epoch 13/20\n",
            "70/70 [==============================] - 112s 2s/step - loss: 0.6030 - accuracy: 0.7143 - val_loss: 1.0431 - val_accuracy: 0.0000e+00\n",
            "Epoch 14/20\n",
            "70/70 [==============================] - 112s 2s/step - loss: 0.6114 - accuracy: 0.7143 - val_loss: 1.1564 - val_accuracy: 0.0000e+00\n",
            "Epoch 15/20\n",
            "70/70 [==============================] - 112s 2s/step - loss: 0.6033 - accuracy: 0.7143 - val_loss: 1.1735 - val_accuracy: 0.0000e+00\n",
            "Epoch 16/20\n",
            "70/70 [==============================] - 111s 2s/step - loss: 0.5971 - accuracy: 0.7143 - val_loss: 1.3226 - val_accuracy: 0.0000e+00\n",
            "Epoch 17/20\n",
            "70/70 [==============================] - 112s 2s/step - loss: 0.6004 - accuracy: 0.7143 - val_loss: 1.5192 - val_accuracy: 0.0000e+00\n",
            "Epoch 18/20\n",
            "70/70 [==============================] - 111s 2s/step - loss: 0.6018 - accuracy: 0.7143 - val_loss: 1.2427 - val_accuracy: 0.0000e+00\n",
            "Epoch 19/20\n",
            "70/70 [==============================] - 111s 2s/step - loss: 0.6031 - accuracy: 0.7143 - val_loss: 1.2438 - val_accuracy: 0.0000e+00\n",
            "Epoch 20/20\n",
            "70/70 [==============================] - 111s 2s/step - loss: 0.6012 - accuracy: 0.7143 - val_loss: 1.1933 - val_accuracy: 0.0000e+00\n"
          ]
        }
      ],
      "source": [
        "model.compile(optimizer=Adam(lr=lr_fine),\n",
        "              loss=categorical_crossentropy,\n",
        "              metrics=['accuracy'])\n",
        "\n",
        "# train\n",
        "hist_fine = model.fit_generator(\n",
        "    generator=generate_from_paths_and_labels(input_paths=train_input_paths,\n",
        "                                            labels=train_labels,\n",
        "                                            batch_size=batch_size_fine),\n",
        "\n",
        "  steps_per_epoch=math.ceil(len(train_input_paths) / batch_size_fine),\n",
        "\n",
        "  epochs=epochs_fine,\n",
        "\n",
        "  validation_data=generate_from_paths_and_labels(input_paths=val_input_paths,\n",
        "                                                labels=val_labels,\n",
        "                                                batch_size=batch_size_fine),\n",
        "\n",
        "  validation_steps=math.ceil(len(val_input_paths) / batch_size_fine),\n",
        "\n",
        "  verbose=1,\n",
        "\n",
        "  callbacks=[ModelCheckpoint(\n",
        "          filepath=os.path.join(result_root,\n",
        "                                'model_fine_Cust_VGG_2_{epoch}_valloss{val_loss:.3f}.h5'),\n",
        "          period=snapshot_period_fine,),\n",
        "  ],\n",
        ")\n",
        "\n",
        "model.save(os.path.join(result_root, 'model_Custom_Ghost_VGG_100_2.h5'))"
      ]
    },
    {
      "cell_type": "code",
      "execution_count": 13,
      "metadata": {},
      "outputs": [
        {
          "name": "stdout",
          "output_type": "stream",
          "text": [
            "WARNING:tensorflow:`period` argument is deprecated. Please use `save_freq` to specify the frequency in number of batches seen.\n",
            "Epoch 1/20\n"
          ]
        },
        {
          "name": "stderr",
          "output_type": "stream",
          "text": [
            "C:\\Users\\Павел\\AppData\\Local\\Temp\\ipykernel_19160\\2157898366.py:1: UserWarning: `Model.fit_generator` is deprecated and will be removed in a future version. Please use `Model.fit`, which supports generators.\n",
            "  hist_fine = model.fit_generator(\n"
          ]
        },
        {
          "name": "stdout",
          "output_type": "stream",
          "text": [
            "70/70 [==============================] - 22s 312ms/step - loss: 0.2832 - accuracy: 0.8929 - val_loss: 1.6332 - val_accuracy: 0.5000\n",
            "Epoch 2/20\n",
            "70/70 [==============================] - 22s 316ms/step - loss: 0.3594 - accuracy: 0.8429 - val_loss: 2.7022 - val_accuracy: 0.2667\n",
            "Epoch 3/20\n",
            "70/70 [==============================] - 22s 317ms/step - loss: 0.2345 - accuracy: 0.9071 - val_loss: 2.9488 - val_accuracy: 0.2333\n",
            "Epoch 4/20\n",
            "70/70 [==============================] - 22s 319ms/step - loss: 0.1557 - accuracy: 0.9500 - val_loss: 1.9653 - val_accuracy: 0.5500\n",
            "Epoch 5/20\n",
            "70/70 [==============================] - 23s 324ms/step - loss: 0.1663 - accuracy: 0.9286 - val_loss: 2.0666 - val_accuracy: 0.5167\n",
            "Epoch 6/20\n",
            "70/70 [==============================] - 22s 320ms/step - loss: 0.2072 - accuracy: 0.9214 - val_loss: 3.6258 - val_accuracy: 0.2333\n",
            "Epoch 7/20\n",
            "70/70 [==============================] - 23s 327ms/step - loss: 0.0852 - accuracy: 0.9500 - val_loss: 5.4978 - val_accuracy: 0.2667\n",
            "Epoch 8/20\n",
            "70/70 [==============================] - 23s 324ms/step - loss: 0.0129 - accuracy: 1.0000 - val_loss: 7.6998 - val_accuracy: 0.2500\n",
            "Epoch 9/20\n",
            "70/70 [==============================] - 23s 328ms/step - loss: 0.0033 - accuracy: 1.0000 - val_loss: 7.4363 - val_accuracy: 0.2667\n",
            "Epoch 10/20\n",
            "70/70 [==============================] - 23s 331ms/step - loss: 0.0011 - accuracy: 1.0000 - val_loss: 8.6013 - val_accuracy: 0.2833\n",
            "Epoch 11/20\n",
            "70/70 [==============================] - 23s 335ms/step - loss: 6.6129e-04 - accuracy: 1.0000 - val_loss: 8.4632 - val_accuracy: 0.3000\n",
            "Epoch 12/20\n",
            "70/70 [==============================] - 24s 344ms/step - loss: 4.7930e-04 - accuracy: 1.0000 - val_loss: 11.3772 - val_accuracy: 0.2000\n",
            "Epoch 13/20\n",
            "70/70 [==============================] - 24s 341ms/step - loss: 3.6107e-04 - accuracy: 1.0000 - val_loss: 9.6851 - val_accuracy: 0.3000\n",
            "Epoch 14/20\n",
            "70/70 [==============================] - 24s 345ms/step - loss: 2.8742e-04 - accuracy: 1.0000 - val_loss: 11.2897 - val_accuracy: 0.2333\n",
            "Epoch 15/20\n",
            "70/70 [==============================] - 24s 347ms/step - loss: 2.3586e-04 - accuracy: 1.0000 - val_loss: 9.5470 - val_accuracy: 0.3333\n",
            "Epoch 16/20\n",
            "70/70 [==============================] - 24s 339ms/step - loss: 1.9720e-04 - accuracy: 1.0000 - val_loss: 10.9875 - val_accuracy: 0.2500\n",
            "Epoch 17/20\n",
            "70/70 [==============================] - 23s 335ms/step - loss: 1.6723e-04 - accuracy: 1.0000 - val_loss: 10.9137 - val_accuracy: 0.2167\n",
            "Epoch 18/20\n",
            "70/70 [==============================] - 23s 335ms/step - loss: 1.4416e-04 - accuracy: 1.0000 - val_loss: 11.2705 - val_accuracy: 0.3000\n",
            "Epoch 19/20\n",
            "70/70 [==============================] - 23s 332ms/step - loss: 1.2492e-04 - accuracy: 1.0000 - val_loss: 11.7164 - val_accuracy: 0.2500\n",
            "Epoch 20/20\n",
            "70/70 [==============================] - 24s 337ms/step - loss: 1.0963e-04 - accuracy: 1.0000 - val_loss: 12.5427 - val_accuracy: 0.2333\n"
          ]
        }
      ],
      "source": [
        "hist_fine = model.fit_generator(\n",
        "    generator=generate_from_paths_and_labels(input_paths=train_input_paths,\n",
        "                                            labels=train_labels,\n",
        "                                            batch_size=batch_size_fine),\n",
        "\n",
        "  steps_per_epoch=math.ceil(len(train_input_paths) / batch_size_fine),\n",
        "\n",
        "  epochs=epochs_fine,\n",
        "\n",
        "  validation_data=generate_from_paths_and_labels(input_paths=val_input_paths,\n",
        "                                                labels=val_labels,\n",
        "                                                batch_size=batch_size_fine),\n",
        "\n",
        "  validation_steps=math.ceil(len(val_input_paths) / batch_size_fine),\n",
        "\n",
        "  verbose=1,\n",
        "\n",
        "  callbacks=[ModelCheckpoint(\n",
        "          filepath=os.path.join(result_root,\n",
        "                                'model_fine_Cust_VGG_{epoch}_valloss{val_loss:.3f}.h5'),\n",
        "          period=snapshot_period_fine,),\n",
        "  ],\n",
        ")\n",
        "\n",
        "model.save(os.path.join(result_root, 'model_Custom_Ghost_VGG_100.h5'))"
      ]
    }
  ],
  "metadata": {
    "accelerator": "GPU",
    "colab": {
      "provenance": [],
      "toc_visible": true
    },
    "kernelspec": {
      "display_name": "Python 3",
      "name": "python3"
    },
    "language_info": {
      "codemirror_mode": {
        "name": "ipython",
        "version": 3
      },
      "file_extension": ".py",
      "mimetype": "text/x-python",
      "name": "python",
      "nbconvert_exporter": "python",
      "pygments_lexer": "ipython3",
      "version": "3.9.18"
    }
  },
  "nbformat": 4,
  "nbformat_minor": 0
}
