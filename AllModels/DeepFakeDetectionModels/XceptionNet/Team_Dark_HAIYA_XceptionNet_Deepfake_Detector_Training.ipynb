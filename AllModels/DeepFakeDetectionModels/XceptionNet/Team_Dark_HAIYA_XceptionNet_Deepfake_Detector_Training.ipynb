{
  "cells": [
    {
      "cell_type": "markdown",
      "metadata": {
        "id": "SuvT4yPzSOb5"
      },
      "source": [
        "# XceptionNet Deepfake Detector\n",
        "FIT3183 2020 S2 Assignment\n",
        "<br/>By Team Dark.HAIYA\n",
        "<br/>Team members:\n",
        "- Kee Pei Jiin\n",
        "- Chin Wen Yuan\n",
        "\n",
        "In this Colab, we train a deepfake detector which uses the XceptionNet CNN architecture. We mainly refer to [this Github](https://github.com/otenim/Xception-with-Your-Own-Dataset) to create the detector.\n"
      ]
    },
    {
      "cell_type": "markdown",
      "metadata": {
        "id": "Jodb07LuomaC"
      },
      "source": [
        "# Download training datasets\n",
        "The training dataset has 1600 images, which is made up of 800 cropped CelebA images and 800 fake faces downloaded from [here](https://github.com/cc-hpc-itwm/DeepFakeDetection/blob/master/Experiments_CelebA/dataset_celebA.7z)."
      ]
    },
    {
      "cell_type": "code",
      "execution_count": null,
      "metadata": {
        "colab": {
          "base_uri": "https://localhost:8080/"
        },
        "id": "rjzTVl8hoAlk",
        "outputId": "7b4f1f94-ae92-417d-88a5-1bf63be67a9c"
      },
      "outputs": [
        {
          "name": "stdout",
          "output_type": "stream",
          "text": [
            "Downloading...\n",
            "From: https://drive.google.com/uc?id=1tZ1pQHuz94TCjzo9mdKWuKlRgOnHfog9\n",
            "To: /content/training_images.zip\n",
            "6.00MB [00:00, 11.6MB/s]\n"
          ]
        }
      ],
      "source": [
        "# Download the training dataset\n",
        "import gdown\n",
        "!gdown https://drive.google.com/uc?id=1tZ1pQHuz94TCjzo9mdKWuKlRgOnHfog9"
      ]
    },
    {
      "cell_type": "code",
      "execution_count": null,
      "metadata": {
        "id": "49Tk9GgVotrZ"
      },
      "outputs": [],
      "source": [
        "!unzip -q /content/training_images.zip\n",
        "!rm -r /content/training_images.zip"
      ]
    },
    {
      "cell_type": "code",
      "execution_count": null,
      "metadata": {
        "id": "U3R94uzGo9lJ"
      },
      "outputs": [],
      "source": [
        "!mv /content/content/training_images /content/"
      ]
    },
    {
      "cell_type": "code",
      "execution_count": null,
      "metadata": {
        "id": "jqXmJoHvpB5E"
      },
      "outputs": [],
      "source": [
        "!rm -r /content/content"
      ]
    },
    {
      "cell_type": "markdown",
      "metadata": {
        "id": "IRChFraXo1R3"
      },
      "source": [
        "# Import Libraries & Variables Declaration"
      ]
    },
    {
      "cell_type": "code",
      "execution_count": 1,
      "metadata": {
        "id": "3_6GD947pGEk"
      },
      "outputs": [],
      "source": [
        "import math\n",
        "import os\n",
        "import matplotlib\n",
        "import imghdr\n",
        "import pickle as pkl\n",
        "import numpy as np\n",
        "import matplotlib.pyplot as plt\n",
        "from keras.applications.xception import Xception, preprocess_input\n",
        "from keras.optimizers import Adam\n",
        "#from keras.preprocessing import image\n",
        "import keras.utils as image\n",
        "from keras.losses import categorical_crossentropy\n",
        "from keras.layers import Dense, GlobalAveragePooling2D\n",
        "from keras.models import Model\n",
        "from keras.utils import to_categorical\n",
        "from keras.callbacks import ModelCheckpoint\n",
        "from keras.models import load_model"
      ]
    },
    {
      "cell_type": "code",
      "execution_count": 2,
      "metadata": {
        "id": "Oole7Pa9pIUc"
      },
      "outputs": [],
      "source": [
        "matplotlib.use('Agg')\n",
        "#dataset_root = \"E://roop//\"\n",
        "\n",
        "dataset_root = 'C:\\\\DatasetD\\\\ROOP_100'\n",
        "result_root = \"D:\\\\DeepFakeRepos\\\\AllModels\\\\DeepFakeDetectionModels\\\\XceptionNet\\\\\"\n",
        "classes = [\"real\", \"fake\"]\n",
        "num_classes = 2\n",
        "\n",
        "epochs_pre = 10\n",
        "epochs_fine = 20\n",
        "batch_size_pre = 4\n",
        "batch_size_fine = 4\n",
        "lr_pre = 1e-3\n",
        "lr_fine = 1e-4\n",
        "snapshot_period_pre = 5\n",
        "snapshot_period_fine = 5\n",
        "split = 0.7"
      ]
    },
    {
      "cell_type": "markdown",
      "metadata": {
        "id": "GNM3mO9spQC6"
      },
      "source": [
        "# Load training data\n",
        "We load the training images and create their one-hot-categorical label.\n",
        "\n",
        "Then, we further split the training datasets into smaller datasets for training & validation purposes.\n",
        "  - 70% will be used for training\n",
        "  - 30% will be used for validation"
      ]
    },
    {
      "cell_type": "code",
      "execution_count": 3,
      "metadata": {
        "id": "m_XHWryipNEi"
      },
      "outputs": [],
      "source": [
        "# make input_paths and labels\n",
        "input_paths, labels = [], []\n",
        "for class_name in os.listdir(dataset_root):\n",
        "    class_root = os.path.join(dataset_root, class_name)\n",
        "    class_id = classes.index(class_name)\n",
        "    for path in os.listdir(class_root):\n",
        "        path = os.path.join(class_root, path)\n",
        "        if imghdr.what(path) is None:\n",
        "            # this is not an image file\n",
        "            continue\n",
        "        input_paths.append(path)\n",
        "        labels.append(class_id)\n",
        "\n",
        "# convert to one-hot-vector format\n",
        "labels = to_categorical(labels, num_classes=num_classes)\n",
        "\n",
        "# convert to numpy array\n",
        "input_paths = np.array(input_paths)"
      ]
    },
    {
      "cell_type": "code",
      "execution_count": 6,
      "metadata": {
        "colab": {
          "base_uri": "https://localhost:8080/"
        },
        "id": "PiRKJPtfpVUr",
        "outputId": "9669ba60-d38f-4643-c20c-30910f9243b6"
      },
      "outputs": [
        {
          "name": "stdout",
          "output_type": "stream",
          "text": [
            "200 200\n"
          ]
        }
      ],
      "source": [
        "print(len(labels), len(input_paths))"
      ]
    },
    {
      "cell_type": "code",
      "execution_count": 4,
      "metadata": {
        "colab": {
          "base_uri": "https://localhost:8080/"
        },
        "id": "aeInjv68pYCi",
        "outputId": "1eb1a179-9d0d-4ac5-bdb8-29747cf82188"
      },
      "outputs": [
        {
          "name": "stdout",
          "output_type": "stream",
          "text": [
            "Training on 140 images and labels\n",
            "Validation on 60 images and labels\n"
          ]
        }
      ],
      "source": [
        "# split dataset for training and validation purposes\n",
        "border = int(len(input_paths) * split)\n",
        "train_labels = labels[:border]\n",
        "val_labels = labels[border:]\n",
        "train_input_paths = input_paths[:border]\n",
        "val_input_paths = input_paths[border:]\n",
        "print(\"Training on %d images and labels\" % (len(train_input_paths)))\n",
        "print(\"Validation on %d images and labels\" % (len(val_input_paths)))\n",
        "\n",
        "if os.path.exists(result_root) is False:\n",
        "    os.makedirs(result_root)"
      ]
    },
    {
      "cell_type": "markdown",
      "metadata": {
        "id": "GTSWYZ2Zp9Rj"
      },
      "source": [
        "# Model Training using Transfer Learning Technique\n",
        "\n",
        "Since out training dataset is quite small, we apply [transfer learning](https://machinelearningmastery.com/transfer-learning-for-deep-learning/#:~:text=Transfer%20learning%20is%20a%20machine,model%20on%20a%20second%20task.) technique in creating the detector.\n",
        "\n",
        "We use the Keras pre-trained XceptionNet model as our base model. This pre-trained model was trained on Imagenet datasets and is able to classify images into around 1000 different classes. We fine-tune this model so that it recognises real & fake human faces as well."
      ]
    },
    {
      "cell_type": "code",
      "execution_count": 5,
      "metadata": {
        "id": "fh-jPlY4pwOe"
      },
      "outputs": [],
      "source": [
        "def generate_from_paths_and_labels(input_paths, labels, batch_size, input_size=(1024, 1024)):\n",
        "    num_samples = len(input_paths)\n",
        "    while 1:\n",
        "        perm = np.random.permutation(num_samples)\n",
        "        input_paths = input_paths[perm]\n",
        "        labels = labels[perm]\n",
        "        for i in range(0, num_samples, batch_size):\n",
        "            inputs = list(map(\n",
        "                lambda x: image.load_img(x, target_size=input_size),\n",
        "                input_paths[i:i+batch_size]\n",
        "            ))\n",
        "            inputs = np.array(list(map(\n",
        "                lambda x: image.img_to_array(x),\n",
        "                inputs\n",
        "            )))\n",
        "            inputs = preprocess_input(inputs)\n",
        "            yield (inputs, labels[i:i+batch_size])"
      ]
    },
    {
      "cell_type": "code",
      "execution_count": 6,
      "metadata": {
        "colab": {
          "base_uri": "https://localhost:8080/"
        },
        "id": "VEIfyJILqAfR",
        "outputId": "ee907564-4a48-4691-894a-cc93a54921e5"
      },
      "outputs": [],
      "source": [
        "# base model used is the pre-trained XceptionNet model on imageNet dataset\n",
        "# do not include imageNet classfier at the top\n"
      ]
    },
    {
      "cell_type": "code",
      "execution_count": 7,
      "metadata": {
        "id": "jRztALS0qWVh"
      },
      "outputs": [],
      "source": [
        "# create a custom top classifier\n",
        "\n",
        "base_model = Xception(include_top=False,\n",
        "                    weights='imagenet',\n",
        "                    input_shape=(1024, 1024, 3))\n",
        "x = base_model.output\n",
        "x = GlobalAveragePooling2D()(x)\n",
        "x = Dense(1024, activation='relu')(x)\n",
        "predictions = Dense(num_classes, activation='softmax')(x)\n",
        "model = Model(inputs=base_model.inputs, outputs=predictions)"
      ]
    },
    {
      "cell_type": "code",
      "execution_count": 8,
      "metadata": {
        "colab": {
          "base_uri": "https://localhost:8080/"
        },
        "id": "u0YLn1u2qZDS",
        "outputId": "fd008eb1-8569-4b94-8604-1aeedec02b5d"
      },
      "outputs": [
        {
          "name": "stdout",
          "output_type": "stream",
          "text": [
            "WARNING:tensorflow:`period` argument is deprecated. Please use `save_freq` to specify the frequency in number of batches seen.\n"
          ]
        },
        {
          "name": "stderr",
          "output_type": "stream",
          "text": [
            "c:\\Apps\\envs\\tf_venv\\lib\\site-packages\\keras\\optimizers\\optimizer_v2\\adam.py:114: UserWarning: The `lr` argument is deprecated, use `learning_rate` instead.\n",
            "  super().__init__(name, **kwargs)\n",
            "C:\\Users\\Павел\\AppData\\Local\\Temp\\ipykernel_17700\\836869284.py:14: UserWarning: `Model.fit_generator` is deprecated and will be removed in a future version. Please use `Model.fit`, which supports generators.\n",
            "  hist_pre = model.fit_generator(\n"
          ]
        },
        {
          "name": "stdout",
          "output_type": "stream",
          "text": [
            "Epoch 1/10\n"
          ]
        },
        {
          "ename": "",
          "evalue": "",
          "output_type": "error",
          "traceback": [
            "\u001b[1;31mThe Kernel crashed while executing code in the current cell or a previous cell. \n",
            "\u001b[1;31mPlease review the code in the cell(s) to identify a possible cause of the failure. \n",
            "\u001b[1;31mClick <a href='https://aka.ms/vscodeJupyterKernelCrash'>here</a> for more info. \n",
            "\u001b[1;31mView Jupyter <a href='command:jupyter.viewOutput'>log</a> for further details."
          ]
        }
      ],
      "source": [
        "# train the top classifier layer\n",
        "\n",
        "# freeze the base_model body layers\n",
        "for layer in base_model.layers:\n",
        "    layer.trainable = False\n",
        "\n",
        "# compile model\n",
        "model.compile(loss=categorical_crossentropy,\n",
        "              optimizer=Adam(lr=lr_pre),\n",
        "              metrics=['accuracy']\n",
        ")\n",
        "\n",
        "# train\n",
        "hist_pre = model.fit_generator(\n",
        "    generator=generate_from_paths_and_labels(input_paths=train_input_paths,\n",
        "                                              labels=train_labels,\n",
        "                                              batch_size=batch_size_pre),\n",
        "\n",
        "    steps_per_epoch=math.ceil(len(train_input_paths) / batch_size_pre),\n",
        "\n",
        "    epochs=epochs_pre,\n",
        "\n",
        "    validation_data=generate_from_paths_and_labels(input_paths=val_input_paths,\n",
        "                                                  labels=val_labels,\n",
        "                                                  batch_size=batch_size_pre),\n",
        "\n",
        "    validation_steps=math.ceil(len(val_input_paths) / batch_size_pre),\n",
        "\n",
        "    verbose=1,\n",
        "\n",
        "    callbacks=[ModelCheckpoint(\n",
        "                filepath=os.path.join(result_root,\n",
        "                                'model_pre_ep_ROOP_100_5_{epoch}_valloss{val_loss:.3f}.h5'),\n",
        "                period=snapshot_period_pre,),\n",
        "    ],\n",
        ")\n",
        "\n",
        "model.save(os.path.join(result_root, 'model_pre_ROOP_100_5_final.h5'))"
      ]
    },
    {
      "cell_type": "code",
      "execution_count": 11,
      "metadata": {},
      "outputs": [
        {
          "data": {
            "text/plain": [
              "[PhysicalDevice(name='/physical_device:GPU:0', device_type='GPU')]"
            ]
          },
          "execution_count": 11,
          "metadata": {},
          "output_type": "execute_result"
        }
      ],
      "source": [
        "import tensorflow as tf\n",
        "tf.config.list_physical_devices('GPU')"
      ]
    },
    {
      "cell_type": "code",
      "execution_count": 12,
      "metadata": {
        "colab": {
          "base_uri": "https://localhost:8080/"
        },
        "id": "WXell_Xpqej-",
        "outputId": "240ff158-65f6-45b7-f2b0-8678984038c9"
      },
      "outputs": [
        {
          "name": "stdout",
          "output_type": "stream",
          "text": [
            "WARNING:tensorflow:`period` argument is deprecated. Please use `save_freq` to specify the frequency in number of batches seen.\n"
          ]
        },
        {
          "name": "stderr",
          "output_type": "stream",
          "text": [
            "c:\\Apps\\envs\\tf_venv\\lib\\site-packages\\keras\\optimizers\\optimizer_v2\\adam.py:114: UserWarning: The `lr` argument is deprecated, use `learning_rate` instead.\n",
            "  super().__init__(name, **kwargs)\n",
            "C:\\Users\\Павел\\AppData\\Local\\Temp\\ipykernel_5528\\873740315.py:12: UserWarning: `Model.fit_generator` is deprecated and will be removed in a future version. Please use `Model.fit`, which supports generators.\n",
            "  hist_fine = model.fit_generator(\n"
          ]
        },
        {
          "name": "stdout",
          "output_type": "stream",
          "text": [
            "Epoch 1/25\n"
          ]
        },
        {
          "ename": "",
          "evalue": "",
          "output_type": "error",
          "traceback": [
            "\u001b[1;31mThe Kernel crashed while executing code in the current cell or a previous cell. \n",
            "\u001b[1;31mPlease review the code in the cell(s) to identify a possible cause of the failure. \n",
            "\u001b[1;31mClick <a href='https://aka.ms/vscodeJupyterKernelCrash'>here</a> for more info. \n",
            "\u001b[1;31mView Jupyter <a href='command:jupyter.viewOutput'>log</a> for further details."
          ]
        }
      ],
      "source": [
        "# Fine-tune model\n",
        "# set all the layers to be trainable\n",
        "for layer in model.layers:\n",
        "    layer.trainable = True\n",
        "\n",
        "# recompile\n",
        "model.compile(optimizer=Adam(lr=lr_fine),\n",
        "              loss=categorical_crossentropy,\n",
        "              metrics=['accuracy'])\n",
        "\n",
        "# train\n",
        "hist_fine = model.fit_generator(\n",
        "    generator=generate_from_paths_and_labels(input_paths=train_input_paths,\n",
        "                                            labels=train_labels,\n",
        "                                            batch_size=batch_size_fine),\n",
        "\n",
        "  steps_per_epoch=math.ceil(len(train_input_paths) / batch_size_fine),\n",
        "\n",
        "  epochs=epochs_fine,\n",
        "\n",
        "  validation_data=generate_from_paths_and_labels(input_paths=val_input_paths,\n",
        "                                                labels=val_labels,\n",
        "                                                batch_size=batch_size_fine),\n",
        "\n",
        "  validation_steps=math.ceil(len(val_input_paths) / batch_size_fine),\n",
        "\n",
        "  verbose=1,\n",
        "\n",
        "  callbacks=[ModelCheckpoint(\n",
        "          filepath=os.path.join(result_root,\n",
        "                                'model_fine_ep_EeE_OLDER_{epoch}_valloss{val_loss:.3f}.h5'),\n",
        "          period=snapshot_period_fine,),\n",
        "  ],\n",
        ")\n",
        "\n",
        "model.save(os.path.join(result_root, 'model__EeE_OLDER_Final_1.h5'))"
      ]
    },
    {
      "cell_type": "code",
      "execution_count": null,
      "metadata": {
        "colab": {
          "base_uri": "https://localhost:8080/"
        },
        "id": "fFVs_UtGqoSD",
        "outputId": "bea91a10-796c-4ff2-ff0a-6d7e306121c4"
      },
      "outputs": [
        {
          "name": "stdout",
          "output_type": "stream",
          "text": [
            "Accuracy on training data: 0.98\n",
            "Loss on training data: 0.06\n",
            "Accuracy on validation data: 0.95\n",
            "Loss on validation data: 0.16\n"
          ]
        }
      ],
      "source": [
        "# performance of the final fine-tuned model\n",
        "acc = hist_fine.history[\"accuracy\"][-1]\n",
        "val_acc = hist_fine.history[\"val_accuracy\"][-1]\n",
        "loss = hist_fine.history['loss'][-1]\n",
        "val_loss = hist_fine.history['val_loss'][-1]\n",
        "\n",
        "print(\"Accuracy on training data: %.2f\" %acc)\n",
        "print(\"Loss on training data: %.2f\" %loss)\n",
        "print(\"Accuracy on validation data: %.2f\" %val_acc)\n",
        "print(\"Loss on validation data: %.2f\" %val_loss)"
      ]
    },
    {
      "cell_type": "code",
      "execution_count": null,
      "metadata": {
        "colab": {
          "base_uri": "https://localhost:8080/",
          "height": 34
        },
        "id": "aMiyb24HqrSZ",
        "outputId": "5e4dab81-18f1-4131-8633-55c9e851e469"
      },
      "outputs": [
        {
          "data": {
            "application/javascript": "\n    async function download(id, filename, size) {\n      if (!google.colab.kernel.accessAllowed) {\n        return;\n      }\n      const div = document.createElement('div');\n      const label = document.createElement('label');\n      label.textContent = `Downloading \"${filename}\": `;\n      div.appendChild(label);\n      const progress = document.createElement('progress');\n      progress.max = size;\n      div.appendChild(progress);\n      document.body.appendChild(div);\n\n      const buffers = [];\n      let downloaded = 0;\n\n      const channel = await google.colab.kernel.comms.open(id);\n      // Send a message to notify the kernel that we're ready.\n      channel.send({})\n\n      for await (const message of channel.messages) {\n        // Send a message to notify the kernel that we're ready.\n        channel.send({})\n        if (message.buffers) {\n          for (const buffer of message.buffers) {\n            buffers.push(buffer);\n            downloaded += buffer.byteLength;\n            progress.value = downloaded;\n          }\n        }\n      }\n      const blob = new Blob(buffers, {type: 'application/binary'});\n      const a = document.createElement('a');\n      a.href = window.URL.createObjectURL(blob);\n      a.download = filename;\n      div.appendChild(a);\n      a.click();\n      div.remove();\n    }\n  ",
            "text/plain": [
              "<IPython.core.display.Javascript object>"
            ]
          },
          "metadata": {
            "tags": []
          },
          "output_type": "display_data"
        },
        {
          "data": {
            "application/javascript": "download(\"download_225c1541-e0a1-44a2-8aa8-1056c9139ed2\", \"model_fine_final.h5\", 275863800)",
            "text/plain": [
              "<IPython.core.display.Javascript object>"
            ]
          },
          "metadata": {
            "tags": []
          },
          "output_type": "display_data"
        }
      ],
      "source": [
        "# download the final model weight files\n",
        "from google.colab import files\n",
        "files.download(\"/content/results/model_fine_final.h5\")"
      ]
    },
    {
      "cell_type": "code",
      "execution_count": null,
      "metadata": {
        "id": "xKEKHQ1srxRK"
      },
      "outputs": [],
      "source": []
    }
  ],
  "metadata": {
    "accelerator": "GPU",
    "colab": {
      "provenance": [],
      "toc_visible": true
    },
    "kernelspec": {
      "display_name": "Python 3",
      "name": "python3"
    },
    "language_info": {
      "codemirror_mode": {
        "name": "ipython",
        "version": 3
      },
      "file_extension": ".py",
      "mimetype": "text/x-python",
      "name": "python",
      "nbconvert_exporter": "python",
      "pygments_lexer": "ipython3",
      "version": "3.9.18"
    }
  },
  "nbformat": 4,
  "nbformat_minor": 0
}
